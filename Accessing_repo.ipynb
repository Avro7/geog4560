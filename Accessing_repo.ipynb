{
 "cells": [
  {
   "cell_type": "markdown",
   "id": "9249de88",
   "metadata": {},
   "source": [
    "## Accessing our course repo \n",
    "\n",
    "### Interactively \n",
    "\n",
    "* can execute/modify code/markdown cells\n",
    "* Two ways:\n",
    "    * binder: \n",
    "        * interact with Jupyter Notebooks in a live environment on a server (called Jupyter Hub)\n",
    "        * can modify code/markdown cells but the changes will not be saved \n",
    "    * locally:\n",
    "        * download/clone the repo to your local computer and start Jupyter Notebook with the command `jupyter notebook` from a shell\n",
    "        * can modify code/markdown cells and the changes will not be saved \n",
    "        * we will learn more about this later in the class\n",
    "    \n",
    "### Noninteractively\n",
    "\n",
    "* Cannot execute code/markdown cells\n",
    "* Jupyter Notebook is displayed as static html.\n",
    "* Two ways:\n",
    "    * GitHub viewer: Click on the Jupyter Notebook file in the GitHub Repo.\n",
    "    * nbviewer utility of Project Jupyter: Open https://nbviewer.jupyter.org/ and put URL of file in your repository in the textfield as shown. Press Go button to view the notebook."
   ]
  },
  {
   "cell_type": "code",
   "execution_count": null,
   "id": "a91543ef",
   "metadata": {},
   "outputs": [],
   "source": []
  }
 ],
 "metadata": {
  "kernelspec": {
   "display_name": "Python 3 (ipykernel)",
   "language": "python",
   "name": "python3"
  },
  "language_info": {
   "codemirror_mode": {
    "name": "ipython",
    "version": 3
   },
   "file_extension": ".py",
   "mimetype": "text/x-python",
   "name": "python",
   "nbconvert_exporter": "python",
   "pygments_lexer": "ipython3",
   "version": "3.9.13"
  }
 },
 "nbformat": 4,
 "nbformat_minor": 5
}
