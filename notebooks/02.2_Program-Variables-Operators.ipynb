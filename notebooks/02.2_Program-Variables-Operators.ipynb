{
 "cells": [
  {
   "cell_type": "markdown",
   "id": "657e0604",
   "metadata": {
    "slideshow": {
     "slide_type": "slide"
    }
   },
   "source": [
    "# Introduction to Python for Open Source Geocomputation\n",
    "\n",
    "![python](pics/python-logo-master-v3-TM.png)\n",
    "\n",
    "* Instructor: Dr. Wei Kang\n",
    "* Class Location and Time: ENV 336, Mon & Wed 12:30 pm - 1:50 pm\n",
    "\n",
    "Content:\n",
    "* [The Way of Program](#The-Way-of-Program)\n",
    "* Operators\n",
    "* Variables"
   ]
  },
  {
   "cell_type": "markdown",
   "id": "00c43c66",
   "metadata": {
    "slideshow": {
     "slide_type": "slide"
    }
   },
   "source": [
    "## The Way of Program\n",
    "\n",
    "Program for problem solving:\n",
    "* formulate problems\n",
    "* think creatively about solutions\n",
    "* express a solution clearly and accurately\n"
   ]
  },
  {
   "cell_type": "markdown",
   "id": "a7133de4",
   "metadata": {
    "slideshow": {
     "slide_type": "subslide"
    }
   },
   "source": [
    "## What is a program? - Computation\n",
    "\n",
    "A sequence of instructions that specifies how to perform a **computation**.\n",
    "\n",
    "Different types of computation:\n",
    "\n",
    "| Type      | Example (1) |Examples (2)  |\n",
    "| :----:  | :----:  |:----:  |\n",
    "| Mathematical      | Solving a system of equations       |Finding the roots of a polynomial|\n",
    "| Symbolic   | Searching and replacing text in a document   |processing an image or playing a video|\n"
   ]
  },
  {
   "cell_type": "markdown",
   "id": "f57ac2f8",
   "metadata": {
    "slideshow": {
     "slide_type": "subslide"
    }
   },
   "source": [
    "## What is a program? - Instructions\n",
    "\n",
    "| Instruction    | Function |\n",
    "| :----  | :----  |\n",
    "| input      | Get data from the keyboard, a file, the network, or some other device.   |\n",
    "| output   | Display data on the screen, save it in a file, send it over the network, etc. |\n",
    "|math/operation| Perform basic mathematical operations like addition and multiplication.|\n",
    "|conditional execution|Check for certain conditions and run the appropriate code.|\n",
    "|repetition| Perform some action repeatedly, usually with some variation.|\n",
    "\n",
    "**Divde and conquer!!!**"
   ]
  },
  {
   "cell_type": "code",
   "execution_count": 1,
   "id": "674b7ffc",
   "metadata": {
    "slideshow": {
     "slide_type": "fragment"
    }
   },
   "outputs": [
    {
     "name": "stdout",
     "output_type": "stream",
     "text": [
      "2\n"
     ]
    },
    {
     "data": {
      "text/plain": [
       "'2'"
      ]
     },
     "execution_count": 1,
     "metadata": {},
     "output_type": "execute_result"
    }
   ],
   "source": [
    "input()"
   ]
  },
  {
   "cell_type": "markdown",
   "id": "d1d7b5bc",
   "metadata": {
    "slideshow": {
     "slide_type": "slide"
    }
   },
   "source": [
    "## Problem 1 : Print \"Hello world!\"\n",
    "\n",
    "Think about the five basic instructions: input, output, math, conditional execution, repetition.\n",
    "\n",
    "For this problem: which instructions will we need?"
   ]
  },
  {
   "cell_type": "markdown",
   "id": "4b044232",
   "metadata": {
    "slideshow": {
     "slide_type": "fragment"
    }
   },
   "source": [
    "input, output"
   ]
  },
  {
   "cell_type": "code",
   "execution_count": 2,
   "id": "b9de8bbb",
   "metadata": {},
   "outputs": [],
   "source": [
    "?print"
   ]
  },
  {
   "cell_type": "code",
   "execution_count": 3,
   "id": "40719289",
   "metadata": {
    "slideshow": {
     "slide_type": "fragment"
    }
   },
   "outputs": [
    {
     "name": "stdout",
     "output_type": "stream",
     "text": [
      "Hello world!\n"
     ]
    }
   ],
   "source": [
    "print(\"Hello world!\")"
   ]
  },
  {
   "cell_type": "markdown",
   "id": "b00e4b09",
   "metadata": {
    "slideshow": {
     "slide_type": "subslide"
    }
   },
   "source": [
    "### Analyze the program ```print(\"Hello world!\")```\n",
    "\n",
    "* A statement\n",
    "* ```print()```: function \n",
    "    * indicated by ```()```\n",
    "    * displays the value of the input (required `argument`) on the screen\n",
    "    * one of the many Python _built-in_ functions \n",
    "* ```\"Hello world!\"```: \n",
    "    * `string` data type\n",
    "    * input\n",
    "    * required argument: the string of characters it should print out for you"
   ]
  },
  {
   "cell_type": "code",
   "execution_count": 4,
   "id": "2b13633d",
   "metadata": {
    "slideshow": {
     "slide_type": "fragment"
    }
   },
   "outputs": [
    {
     "name": "stdout",
     "output_type": "stream",
     "text": [
      "1\n"
     ]
    }
   ],
   "source": [
    "print(1)"
   ]
  },
  {
   "cell_type": "markdown",
   "id": "d5d40818",
   "metadata": {
    "slideshow": {
     "slide_type": "subslide"
    }
   },
   "source": [
    "## Problem 2 : Print \"Hello world!\" three times\n",
    "\n",
    "Think about the five basic instructions: input, output, math, conditional execution, repetition.\n",
    "\n",
    "For this problem: which instructions will we need?"
   ]
  },
  {
   "cell_type": "markdown",
   "id": "7ff13f24",
   "metadata": {
    "slideshow": {
     "slide_type": "fragment"
    }
   },
   "source": [
    "input, output, repetition"
   ]
  },
  {
   "cell_type": "code",
   "execution_count": 5,
   "id": "6f68bfee",
   "metadata": {
    "slideshow": {
     "slide_type": "fragment"
    }
   },
   "outputs": [
    {
     "name": "stdout",
     "output_type": "stream",
     "text": [
      "Hello world!\n",
      "Hello world!\n",
      "Hello world!\n"
     ]
    }
   ],
   "source": [
    "for i in range(3):\n",
    "    print(\"Hello world!\")"
   ]
  },
  {
   "cell_type": "markdown",
   "id": "d53b360c",
   "metadata": {
    "slideshow": {
     "slide_type": "slide"
    }
   },
   "source": [
    "## Python as a calculator (Arithmetic operators)\n",
    "\n",
    "The symbols are what you would expect, except for the \"raise-to-the-power-of\" operator, which you obtain with two asterisks: `**`. Try all of these:\n",
    "\n",
    "```python\n",
    "+   -   *   /   **   %   //\n",
    "```\n",
    "\n",
    "The `%` symbol is the _modulo_ operator (divide and return the remainder), and the double-slash is _floor division_.\n",
    "\n",
    "Operators: special symbols that represent computations like addition and multiplication"
   ]
  },
  {
   "cell_type": "code",
   "execution_count": 6,
   "id": "845864dc",
   "metadata": {
    "slideshow": {
     "slide_type": "fragment"
    }
   },
   "outputs": [
    {
     "data": {
      "text/plain": [
       "4"
      ]
     },
     "execution_count": 6,
     "metadata": {},
     "output_type": "execute_result"
    }
   ],
   "source": [
    "2 + 2"
   ]
  },
  {
   "cell_type": "code",
   "execution_count": 7,
   "id": "f714b05d",
   "metadata": {
    "slideshow": {
     "slide_type": "fragment"
    }
   },
   "outputs": [
    {
     "data": {
      "text/plain": [
       "4.9"
      ]
     },
     "execution_count": 7,
     "metadata": {},
     "output_type": "execute_result"
    }
   ],
   "source": [
    "1.25 + 3.65"
   ]
  },
  {
   "cell_type": "code",
   "execution_count": 8,
   "id": "b41dd1db",
   "metadata": {
    "slideshow": {
     "slide_type": "subslide"
    }
   },
   "outputs": [
    {
     "data": {
      "text/plain": [
       "2"
      ]
     },
     "execution_count": 8,
     "metadata": {},
     "output_type": "execute_result"
    }
   ],
   "source": [
    "5 - 3"
   ]
  },
  {
   "cell_type": "code",
   "execution_count": 9,
   "id": "c133e5a2",
   "metadata": {
    "slideshow": {
     "slide_type": "fragment"
    }
   },
   "outputs": [
    {
     "data": {
      "text/plain": [
       "8"
      ]
     },
     "execution_count": 9,
     "metadata": {},
     "output_type": "execute_result"
    }
   ],
   "source": [
    "2 * 4"
   ]
  },
  {
   "cell_type": "code",
   "execution_count": 10,
   "id": "3565e100",
   "metadata": {
    "slideshow": {
     "slide_type": "fragment"
    }
   },
   "outputs": [
    {
     "data": {
      "text/plain": [
       "3.5"
      ]
     },
     "execution_count": 10,
     "metadata": {},
     "output_type": "execute_result"
    }
   ],
   "source": [
    "7 / 2"
   ]
  },
  {
   "cell_type": "code",
   "execution_count": 11,
   "id": "e499ca4b",
   "metadata": {
    "slideshow": {
     "slide_type": "fragment"
    }
   },
   "outputs": [
    {
     "data": {
      "text/plain": [
       "8"
      ]
     },
     "execution_count": 11,
     "metadata": {},
     "output_type": "execute_result"
    }
   ],
   "source": [
    "2**3"
   ]
  },
  {
   "cell_type": "code",
   "execution_count": 12,
   "id": "4863b60f",
   "metadata": {},
   "outputs": [
    {
     "data": {
      "text/plain": [
       "8"
      ]
     },
     "execution_count": 12,
     "metadata": {},
     "output_type": "execute_result"
    }
   ],
   "source": [
    "2 * 2 *2"
   ]
  },
  {
   "cell_type": "code",
   "execution_count": 13,
   "id": "a8fe60c8",
   "metadata": {
    "slideshow": {
     "slide_type": "fragment"
    }
   },
   "outputs": [
    {
     "data": {
      "text/plain": [
       "1"
      ]
     },
     "execution_count": 13,
     "metadata": {},
     "output_type": "execute_result"
    }
   ],
   "source": [
    "5%2"
   ]
  },
  {
   "cell_type": "code",
   "execution_count": 14,
   "id": "c85025d6",
   "metadata": {
    "slideshow": {
     "slide_type": "fragment"
    }
   },
   "outputs": [
    {
     "data": {
      "text/plain": [
       "2"
      ]
     },
     "execution_count": 14,
     "metadata": {},
     "output_type": "execute_result"
    }
   ],
   "source": [
    "5//2"
   ]
  },
  {
   "cell_type": "code",
   "execution_count": 15,
   "id": "9e2b262a",
   "metadata": {},
   "outputs": [
    {
     "data": {
      "text/plain": [
       "2.5"
      ]
     },
     "execution_count": 15,
     "metadata": {},
     "output_type": "execute_result"
    }
   ],
   "source": [
    "5/2"
   ]
  },
  {
   "cell_type": "markdown",
   "id": "6273272b",
   "metadata": {
    "slideshow": {
     "slide_type": "subslide"
    }
   },
   "source": [
    "Let's see an interesting case:"
   ]
  },
  {
   "cell_type": "code",
   "execution_count": 16,
   "id": "44fbd1bf",
   "metadata": {
    "slideshow": {
     "slide_type": "fragment"
    }
   },
   "outputs": [
    {
     "data": {
      "text/plain": [
       "4.5"
      ]
     },
     "execution_count": 16,
     "metadata": {},
     "output_type": "execute_result"
    }
   ],
   "source": [
    "9**1/2 "
   ]
  },
  {
   "cell_type": "markdown",
   "id": "b51c0b4c",
   "metadata": {
    "slideshow": {
     "slide_type": "subslide"
    }
   },
   "source": [
    "### Discuss with your neighbor:\n",
    "_What happened?_ Isn't $9^{1/2} = 3$? (Raising to the power $1/2$ is the same as taking the square root.) Did Python get this wrong?"
   ]
  },
  {
   "cell_type": "markdown",
   "id": "2716796e",
   "metadata": {},
   "source": [
    "Compare with this:"
   ]
  },
  {
   "cell_type": "code",
   "execution_count": 17,
   "id": "a1dcae58",
   "metadata": {},
   "outputs": [
    {
     "data": {
      "text/plain": [
       "3.0"
      ]
     },
     "execution_count": 17,
     "metadata": {},
     "output_type": "execute_result"
    }
   ],
   "source": [
    "9 ** 0.5"
   ]
  },
  {
   "cell_type": "code",
   "execution_count": 18,
   "id": "051f276a",
   "metadata": {
    "slideshow": {
     "slide_type": "fragment"
    }
   },
   "outputs": [
    {
     "data": {
      "text/plain": [
       "3.0"
      ]
     },
     "execution_count": 18,
     "metadata": {},
     "output_type": "execute_result"
    }
   ],
   "source": [
    "9**(1/2)"
   ]
  },
  {
   "cell_type": "markdown",
   "id": "b32ecaa8",
   "metadata": {
    "slideshow": {
     "slide_type": "subslide"
    }
   },
   "source": [
    "Yes! The order of operations matters! \n",
    "\n",
    "|Order|Operation|\n",
    "|--|--|\n",
    "|1|Parentheses means brackets()|\n",
    "|2| Exponents (and Roots) means power|\n",
    "|3|Multiplication & Division|\n",
    "|4|Addition & Subtraction|\n"
   ]
  },
  {
   "cell_type": "markdown",
   "id": "aa9fef03",
   "metadata": {
    "slideshow": {
     "slide_type": "subslide"
    }
   },
   "source": [
    "### Another example of order of Arithmetic operations"
   ]
  },
  {
   "cell_type": "code",
   "execution_count": 19,
   "id": "5f3c7776",
   "metadata": {
    "slideshow": {
     "slide_type": "fragment"
    }
   },
   "outputs": [
    {
     "data": {
      "text/plain": [
       "4.5"
      ]
     },
     "execution_count": 19,
     "metadata": {},
     "output_type": "execute_result"
    }
   ],
   "source": [
    "3 + 3 / 2"
   ]
  },
  {
   "cell_type": "code",
   "execution_count": 20,
   "id": "6c95e34f",
   "metadata": {
    "slideshow": {
     "slide_type": "fragment"
    }
   },
   "outputs": [
    {
     "data": {
      "text/plain": [
       "3.0"
      ]
     },
     "execution_count": 20,
     "metadata": {},
     "output_type": "execute_result"
    }
   ],
   "source": [
    "(3 + 3) / 2"
   ]
  },
  {
   "cell_type": "code",
   "execution_count": 21,
   "id": "e808d12b",
   "metadata": {},
   "outputs": [
    {
     "data": {
      "text/plain": [
       "4.5"
      ]
     },
     "execution_count": 21,
     "metadata": {},
     "output_type": "execute_result"
    }
   ],
   "source": [
    "3 + (3 / 2)"
   ]
  },
  {
   "cell_type": "markdown",
   "id": "f95ff21d",
   "metadata": {
    "slideshow": {
     "slide_type": "subslide"
    }
   },
   "source": [
    "### Group Exercise:\n",
    "\n",
    "Discuss and work with your neighbor:\n",
    "\n",
    "Suppose the cover price of a book is \\\\$24.95, but bookstores get a 40\\% discount. Shipping costs \\\\$3 for the first copy and 75 cents for each additional copy. What is the total wholesale cost for 60 copies? \n",
    "\n",
    "> When you are done with your calculation, raise your hand."
   ]
  },
  {
   "cell_type": "code",
   "execution_count": 22,
   "id": "f6093b56",
   "metadata": {
    "slideshow": {
     "slide_type": "fragment"
    }
   },
   "outputs": [
    {
     "data": {
      "text/plain": [
       "945.4499999999999"
      ]
     },
     "execution_count": 22,
     "metadata": {},
     "output_type": "execute_result"
    }
   ],
   "source": [
    "(24.95 * (1-0.4) * 60) + (3 *1 + (60-1) * 0.75)"
   ]
  },
  {
   "cell_type": "markdown",
   "id": "104733cd",
   "metadata": {
    "slideshow": {
     "slide_type": "subslide"
    }
   },
   "source": [
    "## Value and types\n",
    "\n",
    "A value is one of the basic things a program works with, like a letter or a number\n",
    "\n",
    "Each value has a type:\n",
    "\n",
    "* 60 is an integer, 24.95 is a float, \"Hello World\" is a string\n",
    "* we can use built-in function `type()` to check the type of a value"
   ]
  },
  {
   "cell_type": "code",
   "execution_count": 23,
   "id": "d26912e7",
   "metadata": {},
   "outputs": [
    {
     "data": {
      "text/plain": [
       "int"
      ]
     },
     "execution_count": 23,
     "metadata": {},
     "output_type": "execute_result"
    }
   ],
   "source": [
    "type(60)"
   ]
  },
  {
   "cell_type": "code",
   "execution_count": 24,
   "id": "78253f77",
   "metadata": {},
   "outputs": [
    {
     "data": {
      "text/plain": [
       "float"
      ]
     },
     "execution_count": 24,
     "metadata": {},
     "output_type": "execute_result"
    }
   ],
   "source": [
    "type(24.95)"
   ]
  },
  {
   "cell_type": "code",
   "execution_count": 25,
   "id": "e481846b",
   "metadata": {},
   "outputs": [
    {
     "data": {
      "text/plain": [
       "str"
      ]
     },
     "execution_count": 25,
     "metadata": {},
     "output_type": "execute_result"
    }
   ],
   "source": [
    "type(\"Hello World\")"
   ]
  },
  {
   "cell_type": "markdown",
   "id": "090d34cc",
   "metadata": {
    "slideshow": {
     "slide_type": "slide"
    }
   },
   "source": [
    "## Variables\n",
    "\n",
    "Two parts in a variable: **Name** and **Value**.\n",
    "\n",
    "* Name: state\n",
    "* value: \"Texas\", 48, \"48\"\n"
   ]
  },
  {
   "cell_type": "markdown",
   "id": "25f4025b",
   "metadata": {
    "slideshow": {
     "slide_type": "subslide"
    }
   },
   "source": [
    "### Creating a variable: **Assignment Statement**\n",
    "* Use the equal sign `name = value`\n",
    "* The name of the variable goes on the left and the value on the right. \n",
    "* Think of it as an arrow pointing from `name` to `value`.\n",
    "\n",
    "<img src=\"pics/variables.png\" style=\"width: 500px;\"/> \n",
    "\n",
    "\n",
    "We do not need to declare the type of a newly defined variable (makes the program more succinct than C/C++), python will infer the type based on the value."
   ]
  },
  {
   "cell_type": "code",
   "execution_count": 26,
   "id": "cd406716",
   "metadata": {
    "slideshow": {
     "slide_type": "fragment"
    }
   },
   "outputs": [
    {
     "name": "stdout",
     "output_type": "stream",
     "text": [
      "Texas\n"
     ]
    }
   ],
   "source": [
    "state = \"Texas\"\n",
    "print(state)"
   ]
  },
  {
   "cell_type": "code",
   "execution_count": 27,
   "id": "5bfe45e5",
   "metadata": {},
   "outputs": [
    {
     "data": {
      "text/plain": [
       "str"
      ]
     },
     "execution_count": 27,
     "metadata": {},
     "output_type": "execute_result"
    }
   ],
   "source": [
    "type(state)"
   ]
  },
  {
   "cell_type": "markdown",
   "id": "827af080",
   "metadata": {
    "slideshow": {
     "slide_type": "subslide"
    }
   },
   "source": [
    "### Updating a variable: **Assignment Statement**\n",
    "\n",
    "* Use the equal sign `name = value`"
   ]
  },
  {
   "cell_type": "code",
   "execution_count": 28,
   "id": "a6ff9533",
   "metadata": {
    "slideshow": {
     "slide_type": "fragment"
    }
   },
   "outputs": [
    {
     "name": "stdout",
     "output_type": "stream",
     "text": [
      "48\n"
     ]
    }
   ],
   "source": [
    "state = 48\n",
    "print(state)"
   ]
  },
  {
   "cell_type": "code",
   "execution_count": 29,
   "id": "fb88c9a4",
   "metadata": {},
   "outputs": [
    {
     "data": {
      "text/plain": [
       "int"
      ]
     },
     "execution_count": 29,
     "metadata": {},
     "output_type": "execute_result"
    }
   ],
   "source": [
    "type(state)"
   ]
  },
  {
   "cell_type": "markdown",
   "id": "3faecdb0",
   "metadata": {
    "slideshow": {
     "slide_type": "subslide"
    }
   },
   "source": [
    "### Rules of Variable Names\n",
    "* Leading character:\n",
    "    * Must be a letter or the underscore character\n",
    "    * Cannot be a number"
   ]
  },
  {
   "cell_type": "code",
   "execution_count": 30,
   "id": "48ec63ab",
   "metadata": {
    "slideshow": {
     "slide_type": "fragment"
    }
   },
   "outputs": [],
   "source": [
    "_state = 48"
   ]
  },
  {
   "cell_type": "code",
   "execution_count": 31,
   "id": "3c6d07c1",
   "metadata": {},
   "outputs": [
    {
     "ename": "SyntaxError",
     "evalue": "invalid syntax (3927349684.py, line 1)",
     "output_type": "error",
     "traceback": [
      "\u001b[0;36m  File \u001b[0;32m\"/var/folders/6m/8n2ktxl566j8yp0n_qx7x5bw0000gt/T/ipykernel_3771/3927349684.py\"\u001b[0;36m, line \u001b[0;32m1\u001b[0m\n\u001b[0;31m    $state = 48\u001b[0m\n\u001b[0m    ^\u001b[0m\n\u001b[0;31mSyntaxError\u001b[0m\u001b[0;31m:\u001b[0m invalid syntax\n"
     ]
    }
   ],
   "source": [
    "$state = 48"
   ]
  },
  {
   "cell_type": "code",
   "execution_count": 32,
   "id": "9bb3c3cd",
   "metadata": {
    "slideshow": {
     "slide_type": "fragment"
    }
   },
   "outputs": [
    {
     "ename": "SyntaxError",
     "evalue": "invalid syntax (1752543828.py, line 1)",
     "output_type": "error",
     "traceback": [
      "\u001b[0;36m  File \u001b[0;32m\"/var/folders/6m/8n2ktxl566j8yp0n_qx7x5bw0000gt/T/ipykernel_3771/1752543828.py\"\u001b[0;36m, line \u001b[0;32m1\u001b[0m\n\u001b[0;31m    4state = 48\u001b[0m\n\u001b[0m     ^\u001b[0m\n\u001b[0;31mSyntaxError\u001b[0m\u001b[0;31m:\u001b[0m invalid syntax\n"
     ]
    }
   ],
   "source": [
    "4state = 48"
   ]
  },
  {
   "cell_type": "markdown",
   "id": "bf497f1c",
   "metadata": {
    "slideshow": {
     "slide_type": "subslide"
    }
   },
   "source": [
    "* can only contain alpha-numeric characters and underscores (A-z, 0-9, and _ )"
   ]
  },
  {
   "cell_type": "code",
   "execution_count": 33,
   "id": "d6c28ab9",
   "metadata": {
    "slideshow": {
     "slide_type": "fragment"
    }
   },
   "outputs": [],
   "source": [
    "state_id = 48"
   ]
  },
  {
   "cell_type": "code",
   "execution_count": 34,
   "id": "b7b9831b",
   "metadata": {},
   "outputs": [
    {
     "ename": "SyntaxError",
     "evalue": "cannot assign to operator (3220935798.py, line 1)",
     "output_type": "error",
     "traceback": [
      "\u001b[0;36m  File \u001b[0;32m\"/var/folders/6m/8n2ktxl566j8yp0n_qx7x5bw0000gt/T/ipykernel_3771/3220935798.py\"\u001b[0;36m, line \u001b[0;32m1\u001b[0m\n\u001b[0;31m    state&id = 48\u001b[0m\n\u001b[0m    ^\u001b[0m\n\u001b[0;31mSyntaxError\u001b[0m\u001b[0;31m:\u001b[0m cannot assign to operator\n"
     ]
    }
   ],
   "source": [
    "state&id = 48"
   ]
  },
  {
   "cell_type": "markdown",
   "id": "5430bbf8",
   "metadata": {
    "slideshow": {
     "slide_type": "subslide"
    }
   },
   "source": [
    "* Case-sensitive "
   ]
  },
  {
   "cell_type": "code",
   "execution_count": 35,
   "id": "7e709030",
   "metadata": {
    "slideshow": {
     "slide_type": "fragment"
    }
   },
   "outputs": [],
   "source": [
    "state = 48"
   ]
  },
  {
   "cell_type": "code",
   "execution_count": 36,
   "id": "eece0f77",
   "metadata": {
    "slideshow": {
     "slide_type": "fragment"
    }
   },
   "outputs": [],
   "source": [
    "STATE = 40"
   ]
  },
  {
   "cell_type": "code",
   "execution_count": 37,
   "id": "353e409d",
   "metadata": {
    "slideshow": {
     "slide_type": "fragment"
    }
   },
   "outputs": [
    {
     "data": {
      "text/plain": [
       "48"
      ]
     },
     "execution_count": 37,
     "metadata": {},
     "output_type": "execute_result"
    }
   ],
   "source": [
    "state"
   ]
  },
  {
   "cell_type": "markdown",
   "id": "82347e1e",
   "metadata": {
    "slideshow": {
     "slide_type": "subslide"
    }
   },
   "source": [
    "### \"Good\"  Variable Names\n",
    "\n",
    "1. Be clear and concise.\n",
    "2. Be written in English.\n",
    "4. Not conflict with any [Python keywords](https://www.pythonforbeginners.com/basics/keywords-in-python), such as ``for``, ``True``, ``False``, ``and``, ``if``, or ``else``. These are reserved for speical operations in Python and cannot be used as variable names.\n"
   ]
  },
  {
   "cell_type": "code",
   "execution_count": 38,
   "id": "99e9a9c8",
   "metadata": {},
   "outputs": [],
   "source": [
    "HSHDHAHFASFHAHF = 1"
   ]
  },
  {
   "cell_type": "code",
   "execution_count": 39,
   "id": "6e348781",
   "metadata": {},
   "outputs": [
    {
     "ename": "SyntaxError",
     "evalue": "invalid syntax (338946984.py, line 1)",
     "output_type": "error",
     "traceback": [
      "\u001b[0;36m  File \u001b[0;32m\"/var/folders/6m/8n2ktxl566j8yp0n_qx7x5bw0000gt/T/ipykernel_3771/338946984.py\"\u001b[0;36m, line \u001b[0;32m1\u001b[0m\n\u001b[0;31m    for = 9\u001b[0m\n\u001b[0m        ^\u001b[0m\n\u001b[0;31mSyntaxError\u001b[0m\u001b[0;31m:\u001b[0m invalid syntax\n"
     ]
    }
   ],
   "source": [
    "for = 9"
   ]
  },
  {
   "cell_type": "code",
   "execution_count": 40,
   "id": "d5563463",
   "metadata": {
    "slideshow": {
     "slide_type": "fragment"
    }
   },
   "outputs": [
    {
     "name": "stdout",
     "output_type": "stream",
     "text": [
      "\n",
      "Here is a list of the Python keywords.  Enter any keyword to get more help.\n",
      "\n",
      "False               break               for                 not\n",
      "None                class               from                or\n",
      "True                continue            global              pass\n",
      "__peg_parser__      def                 if                  raise\n",
      "and                 del                 import              return\n",
      "as                  elif                in                  try\n",
      "assert              else                is                  while\n",
      "async               except              lambda              with\n",
      "await               finally             nonlocal            yield\n",
      "\n"
     ]
    }
   ],
   "source": [
    "help(\"keywords\")"
   ]
  },
  {
   "cell_type": "markdown",
   "id": "8266952f",
   "metadata": {
    "slideshow": {
     "slide_type": "subslide"
    }
   },
   "source": [
    "### Good Variable Naming Format: pothole_case_naming\n",
    "* lowercase words separated by underscores ``_``. \n",
    "* our suggested format as the underscores make it easy to read the variable, and don't add too much to the length of the variable name. \n",
    "* As an example, consider the variable ``temp_celsius``. "
   ]
  },
  {
   "cell_type": "code",
   "execution_count": 41,
   "id": "300c4e3a",
   "metadata": {
    "slideshow": {
     "slide_type": "fragment"
    }
   },
   "outputs": [],
   "source": [
    "fire_station_id = \"101533\""
   ]
  },
  {
   "cell_type": "code",
   "execution_count": 42,
   "id": "d40645e2",
   "metadata": {},
   "outputs": [],
   "source": [
    "x = 1"
   ]
  },
  {
   "cell_type": "code",
   "execution_count": 43,
   "id": "8e631d08",
   "metadata": {},
   "outputs": [],
   "source": [
    "xx = 3"
   ]
  },
  {
   "cell_type": "code",
   "execution_count": 44,
   "id": "f167f52c",
   "metadata": {},
   "outputs": [
    {
     "ename": "NameError",
     "evalue": "name 'xxxx' is not defined",
     "output_type": "error",
     "traceback": [
      "\u001b[0;31m---------------------------------------------------------------------------\u001b[0m",
      "\u001b[0;31mNameError\u001b[0m                                 Traceback (most recent call last)",
      "\u001b[0;32m/var/folders/6m/8n2ktxl566j8yp0n_qx7x5bw0000gt/T/ipykernel_3771/3574181483.py\u001b[0m in \u001b[0;36m<module>\u001b[0;34m\u001b[0m\n\u001b[0;32m----> 1\u001b[0;31m \u001b[0mxxxx\u001b[0m\u001b[0;34m\u001b[0m\u001b[0;34m\u001b[0m\u001b[0m\n\u001b[0m",
      "\u001b[0;31mNameError\u001b[0m: name 'xxxx' is not defined"
     ]
    }
   ],
   "source": [
    "xxxx"
   ]
  },
  {
   "cell_type": "code",
   "execution_count": null,
   "id": "7f3c850e",
   "metadata": {
    "slideshow": {
     "slide_type": "fragment"
    }
   },
   "outputs": [],
   "source": [
    "university_name = \"UNT\""
   ]
  },
  {
   "cell_type": "markdown",
   "id": "110797f5",
   "metadata": {
    "slideshow": {
     "slide_type": "slide"
    }
   },
   "source": [
    "### Automation 1: arithmetic operations on variables\n",
    "\n",
    "#### Example: Group Exercise\n",
    "\n",
    "Suppose the cover price of a book is \\\\$24.95, but bookstores get a 40\\% discount. Shipping costs \\\\$3 for the first copy and 75 cents for each additional copy. What is the total wholesale cost for 60 copies? \n"
   ]
  },
  {
   "cell_type": "code",
   "execution_count": 45,
   "id": "e605d2de",
   "metadata": {},
   "outputs": [
    {
     "data": {
      "text/plain": [
       "14.969999999999999"
      ]
     },
     "execution_count": 45,
     "metadata": {},
     "output_type": "execute_result"
    }
   ],
   "source": [
    "24.95 * 0.6"
   ]
  },
  {
   "cell_type": "code",
   "execution_count": 46,
   "id": "3b7ea49f",
   "metadata": {
    "slideshow": {
     "slide_type": "fragment"
    }
   },
   "outputs": [
    {
     "data": {
      "text/plain": [
       "14.969999999999999"
      ]
     },
     "execution_count": 46,
     "metadata": {},
     "output_type": "execute_result"
    }
   ],
   "source": [
    "price = 24.95\n",
    "number = 0.6\n",
    "price * number"
   ]
  },
  {
   "cell_type": "code",
   "execution_count": 47,
   "id": "c62b6470",
   "metadata": {
    "slideshow": {
     "slide_type": "fragment"
    }
   },
   "outputs": [
    {
     "name": "stdout",
     "output_type": "stream",
     "text": [
      "14.969999999999999\n"
     ]
    }
   ],
   "source": [
    "book_price = price * number\n",
    "print(book_price)"
   ]
  },
  {
   "cell_type": "code",
   "execution_count": 48,
   "id": "dbdb9e35",
   "metadata": {},
   "outputs": [
    {
     "name": "stdout",
     "output_type": "stream",
     "text": [
      "20000\n"
     ]
    }
   ],
   "source": [
    "price = 20\n",
    "number = 1000\n",
    "\n",
    "book_price = price * number\n",
    "print(book_price)"
   ]
  },
  {
   "cell_type": "markdown",
   "id": "facfa76d",
   "metadata": {
    "slideshow": {
     "slide_type": "subslide"
    }
   },
   "source": [
    "### Automation 2: functions"
   ]
  },
  {
   "cell_type": "code",
   "execution_count": 49,
   "id": "50a15364",
   "metadata": {
    "slideshow": {
     "slide_type": "fragment"
    }
   },
   "outputs": [],
   "source": [
    "def calc_book_price(price, number):\n",
    "    book_price = price * number\n",
    "    return book_price"
   ]
  },
  {
   "cell_type": "code",
   "execution_count": 50,
   "id": "874f5094",
   "metadata": {
    "slideshow": {
     "slide_type": "fragment"
    }
   },
   "outputs": [
    {
     "data": {
      "text/plain": [
       "14.969999999999999"
      ]
     },
     "execution_count": 50,
     "metadata": {},
     "output_type": "execute_result"
    }
   ],
   "source": [
    "calc_book_price(24.95, 0.6)"
   ]
  },
  {
   "cell_type": "code",
   "execution_count": 51,
   "id": "c3157a48",
   "metadata": {
    "slideshow": {
     "slide_type": "fragment"
    }
   },
   "outputs": [
    {
     "data": {
      "text/plain": [
       "20000"
      ]
     },
     "execution_count": 51,
     "metadata": {},
     "output_type": "execute_result"
    }
   ],
   "source": [
    "calc_book_price(20, 1000)"
   ]
  },
  {
   "cell_type": "markdown",
   "id": "06e998ec",
   "metadata": {
    "slideshow": {
     "slide_type": "subslide"
    }
   },
   "source": [
    "### Group Exercise:\n",
    "\n",
    "\n",
    "Discuss and work with your neighbor:\n",
    "\n",
    "Suppose the cover price of a book is \\\\$24.95, but bookstores get a 40\\% discount. Shipping costs \\\\$3 for the first copy and 75 cents for each additional copy. What is the total wholesale cost for 60 copies? \n",
    "\n",
    "> how to automate our solution in a function?\n",
    "\n",
    "```python\n",
    "def calc_total_cost(copies):\n",
    "    return\n",
    "```"
   ]
  },
  {
   "cell_type": "code",
   "execution_count": 52,
   "id": "03def845",
   "metadata": {
    "slideshow": {
     "slide_type": "fragment"
    }
   },
   "outputs": [],
   "source": [
    "def calc_total_cost(copies):\n",
    "    return"
   ]
  },
  {
   "cell_type": "markdown",
   "id": "21be7f12",
   "metadata": {
    "slideshow": {
     "slide_type": "slide"
    }
   },
   "source": [
    "# Next Class\n",
    "\n",
    "* Topic: Functions\n",
    "* Readings: Chapters 3"
   ]
  }
 ],
 "metadata": {
  "celltoolbar": "Slideshow",
  "kernelspec": {
   "display_name": "Python 3 (ipykernel)",
   "language": "python",
   "name": "python3"
  },
  "language_info": {
   "codemirror_mode": {
    "name": "ipython",
    "version": 3
   },
   "file_extension": ".py",
   "mimetype": "text/x-python",
   "name": "python",
   "nbconvert_exporter": "python",
   "pygments_lexer": "ipython3",
   "version": "3.9.13"
  }
 },
 "nbformat": 4,
 "nbformat_minor": 5
}
