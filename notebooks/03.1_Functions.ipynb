{
 "cells": [
  {
   "cell_type": "markdown",
   "id": "02e1926a",
   "metadata": {
    "slideshow": {
     "slide_type": "slide"
    }
   },
   "source": [
    "# Introduction to Python for Open Source Geocomputation\n",
    "\n",
    "![python](pics/python-logo-master-v3-TM.png)\n",
    "\n",
    "* Instructor: Dr. Wei Kang\n",
    "* Class Location and Time: ENV 336, Mon & Wed 12:30 pm - 1:50 pm \n",
    "\n",
    "Content:\n",
    "\n",
    "* Functions\n"
   ]
  },
  {
   "cell_type": "markdown",
   "id": "1b426807",
   "metadata": {
    "slideshow": {
     "slide_type": "slide"
    }
   },
   "source": [
    "# Functions - What is a function?\n",
    "\n",
    "Functions are ways we can extend Python by writing code to add functionality\n",
    "that we would like to **reuse**. \n",
    "\n",
    "* built-in functions: `print`, `help`\n",
    "* functions written by other developers and published in a package: `numpy.log`\n",
    "* user-defined functions"
   ]
  },
  {
   "cell_type": "code",
   "execution_count": 1,
   "id": "92958f2b",
   "metadata": {},
   "outputs": [
    {
     "name": "stdout",
     "output_type": "stream",
     "text": [
      "Help on built-in function print in module builtins:\n",
      "\n",
      "print(...)\n",
      "    print(value, ..., sep=' ', end='\\n', file=sys.stdout, flush=False)\n",
      "    \n",
      "    Prints the values to a stream, or to sys.stdout by default.\n",
      "    Optional keyword arguments:\n",
      "    file:  a file-like object (stream); defaults to the current sys.stdout.\n",
      "    sep:   string inserted between values, default a space.\n",
      "    end:   string appended after the last value, default a newline.\n",
      "    flush: whether to forcibly flush the stream.\n",
      "\n"
     ]
    }
   ],
   "source": [
    "help(print)"
   ]
  },
  {
   "cell_type": "code",
   "execution_count": 2,
   "id": "f5a6c85e",
   "metadata": {},
   "outputs": [],
   "source": [
    "import numpy"
   ]
  },
  {
   "cell_type": "markdown",
   "id": "64e4263c",
   "metadata": {},
   "source": [
    "Defined variables in the `numpy` package:"
   ]
  },
  {
   "cell_type": "code",
   "execution_count": 3,
   "id": "98988747",
   "metadata": {},
   "outputs": [
    {
     "data": {
      "text/plain": [
       "inf"
      ]
     },
     "execution_count": 3,
     "metadata": {},
     "output_type": "execute_result"
    }
   ],
   "source": [
    "numpy.inf"
   ]
  },
  {
   "cell_type": "code",
   "execution_count": 4,
   "id": "70c44367",
   "metadata": {},
   "outputs": [
    {
     "data": {
      "text/plain": [
       "True"
      ]
     },
     "execution_count": 4,
     "metadata": {},
     "output_type": "execute_result"
    }
   ],
   "source": [
    "numpy.inf > 1000"
   ]
  },
  {
   "cell_type": "markdown",
   "id": "034f3b95",
   "metadata": {},
   "source": [
    "Defined functions in the `numpy` package:"
   ]
  },
  {
   "cell_type": "code",
   "execution_count": 5,
   "id": "95bb7cc5",
   "metadata": {},
   "outputs": [
    {
     "name": "stdout",
     "output_type": "stream",
     "text": [
      "Help on ufunc:\n",
      "\n",
      "log = <ufunc 'log'>\n",
      "    log(x, /, out=None, *, where=True, casting='same_kind', order='K', dtype=None, subok=True[, signature, extobj])\n",
      "    \n",
      "    Natural logarithm, element-wise.\n",
      "    \n",
      "    The natural logarithm `log` is the inverse of the exponential function,\n",
      "    so that `log(exp(x)) = x`. The natural logarithm is logarithm in base\n",
      "    `e`.\n",
      "    \n",
      "    Parameters\n",
      "    ----------\n",
      "    x : array_like\n",
      "        Input value.\n",
      "    out : ndarray, None, or tuple of ndarray and None, optional\n",
      "        A location into which the result is stored. If provided, it must have\n",
      "        a shape that the inputs broadcast to. If not provided or None,\n",
      "        a freshly-allocated array is returned. A tuple (possible only as a\n",
      "        keyword argument) must have length equal to the number of outputs.\n",
      "    where : array_like, optional\n",
      "        This condition is broadcast over the input. At locations where the\n",
      "        condition is True, the `out` array will be set to the ufunc result.\n",
      "        Elsewhere, the `out` array will retain its original value.\n",
      "        Note that if an uninitialized `out` array is created via the default\n",
      "        ``out=None``, locations within it where the condition is False will\n",
      "        remain uninitialized.\n",
      "    **kwargs\n",
      "        For other keyword-only arguments, see the\n",
      "        :ref:`ufunc docs <ufuncs.kwargs>`.\n",
      "    \n",
      "    Returns\n",
      "    -------\n",
      "    y : ndarray\n",
      "        The natural logarithm of `x`, element-wise.\n",
      "        This is a scalar if `x` is a scalar.\n",
      "    \n",
      "    See Also\n",
      "    --------\n",
      "    log10, log2, log1p, emath.log\n",
      "    \n",
      "    Notes\n",
      "    -----\n",
      "    Logarithm is a multivalued function: for each `x` there is an infinite\n",
      "    number of `z` such that `exp(z) = x`. The convention is to return the\n",
      "    `z` whose imaginary part lies in `[-pi, pi]`.\n",
      "    \n",
      "    For real-valued input data types, `log` always returns real output. For\n",
      "    each value that cannot be expressed as a real number or infinity, it\n",
      "    yields ``nan`` and sets the `invalid` floating point error flag.\n",
      "    \n",
      "    For complex-valued input, `log` is a complex analytical function that\n",
      "    has a branch cut `[-inf, 0]` and is continuous from above on it. `log`\n",
      "    handles the floating-point negative zero as an infinitesimal negative\n",
      "    number, conforming to the C99 standard.\n",
      "    \n",
      "    References\n",
      "    ----------\n",
      "    .. [1] M. Abramowitz and I.A. Stegun, \"Handbook of Mathematical Functions\",\n",
      "           10th printing, 1964, pp. 67.\n",
      "           https://personal.math.ubc.ca/~cbm/aands/page_67.htm\n",
      "    .. [2] Wikipedia, \"Logarithm\". https://en.wikipedia.org/wiki/Logarithm\n",
      "    \n",
      "    Examples\n",
      "    --------\n",
      "    >>> np.log([1, np.e, np.e**2, 0])\n",
      "    array([  0.,   1.,   2., -Inf])\n",
      "\n"
     ]
    }
   ],
   "source": [
    "help(numpy.log)"
   ]
  },
  {
   "cell_type": "code",
   "execution_count": 6,
   "id": "16235bb1",
   "metadata": {
    "slideshow": {
     "slide_type": "fragment"
    }
   },
   "outputs": [
    {
     "data": {
      "text/plain": [
       "2.302585092994046"
      ]
     },
     "execution_count": 6,
     "metadata": {},
     "output_type": "execute_result"
    }
   ],
   "source": [
    "numpy.log(10)"
   ]
  },
  {
   "cell_type": "markdown",
   "id": "08e39fc6",
   "metadata": {
    "slideshow": {
     "slide_type": "subslide"
    }
   },
   "source": [
    "## Components of a user-defined function\n",
    "\n",
    "* Required:\n",
    "    * function keyword *def*\n",
    "    * function name \n",
    "    * solution: statements/expressions\n",
    "* Optional\n",
    "    * Argument(s) (input)\n",
    "    * Return values (output)\n",
    "    "
   ]
  },
  {
   "cell_type": "code",
   "execution_count": 7,
   "id": "f6ebde2e",
   "metadata": {},
   "outputs": [],
   "source": [
    "def square(x):\n",
    "    return x*x"
   ]
  },
  {
   "cell_type": "markdown",
   "id": "a5eef442",
   "metadata": {
    "slideshow": {
     "slide_type": "subslide"
    }
   },
   "source": [
    "### An example of function\n",
    "```python\n",
    "def square(x):\n",
    "    return x*x\n",
    "```\n",
    "\n",
    "* ``def``: Python keyword for function definition\n",
    "* ``square``: function name\n",
    "* ``x``: function argument/parameter\n",
    "* ``return``: what comes out of the function"
   ]
  },
  {
   "cell_type": "code",
   "execution_count": 8,
   "id": "58862daf",
   "metadata": {},
   "outputs": [],
   "source": [
    "def function_name():\n",
    "    print(\"happy!\")"
   ]
  },
  {
   "cell_type": "code",
   "execution_count": 9,
   "id": "f620b98b",
   "metadata": {},
   "outputs": [
    {
     "name": "stdout",
     "output_type": "stream",
     "text": [
      "happy!\n"
     ]
    }
   ],
   "source": [
    "function_name()"
   ]
  },
  {
   "cell_type": "code",
   "execution_count": 10,
   "id": "e4e5a0ce",
   "metadata": {},
   "outputs": [
    {
     "data": {
      "text/plain": [
       "int"
      ]
     },
     "execution_count": 10,
     "metadata": {},
     "output_type": "execute_result"
    }
   ],
   "source": [
    "type(1)"
   ]
  },
  {
   "cell_type": "code",
   "execution_count": 11,
   "id": "93397bdf",
   "metadata": {},
   "outputs": [
    {
     "data": {
      "text/plain": [
       "str"
      ]
     },
     "execution_count": 11,
     "metadata": {},
     "output_type": "execute_result"
    }
   ],
   "source": [
    "type(\"hello\")"
   ]
  },
  {
   "cell_type": "code",
   "execution_count": 12,
   "id": "9114d182",
   "metadata": {},
   "outputs": [
    {
     "data": {
      "text/plain": [
       "function"
      ]
     },
     "execution_count": 12,
     "metadata": {},
     "output_type": "execute_result"
    }
   ],
   "source": [
    "type(function_name)"
   ]
  },
  {
   "cell_type": "code",
   "execution_count": 13,
   "id": "5485d87a",
   "metadata": {},
   "outputs": [
    {
     "name": "stdout",
     "output_type": "stream",
     "text": [
      "happy!\n"
     ]
    },
    {
     "data": {
      "text/plain": [
       "NoneType"
      ]
     },
     "execution_count": 13,
     "metadata": {},
     "output_type": "execute_result"
    }
   ],
   "source": [
    "type(function_name())"
   ]
  },
  {
   "cell_type": "code",
   "execution_count": 14,
   "id": "44d059c0",
   "metadata": {
    "slideshow": {
     "slide_type": "subslide"
    }
   },
   "outputs": [],
   "source": [
    "def square(x):\n",
    "    return x*x"
   ]
  },
  {
   "cell_type": "markdown",
   "id": "156fbcb0",
   "metadata": {
    "slideshow": {
     "slide_type": "subslide"
    }
   },
   "source": [
    "### Function Calls\n",
    "\n",
    "Call the function `square` to calculate the squre of 10?"
   ]
  },
  {
   "cell_type": "code",
   "execution_count": 15,
   "id": "5be7e154",
   "metadata": {
    "slideshow": {
     "slide_type": "fragment"
    }
   },
   "outputs": [
    {
     "data": {
      "text/plain": [
       "100"
      ]
     },
     "execution_count": 15,
     "metadata": {},
     "output_type": "execute_result"
    }
   ],
   "source": [
    "square(10)"
   ]
  },
  {
   "cell_type": "code",
   "execution_count": 16,
   "id": "b107950c",
   "metadata": {},
   "outputs": [
    {
     "data": {
      "text/plain": [
       "function"
      ]
     },
     "execution_count": 16,
     "metadata": {},
     "output_type": "execute_result"
    }
   ],
   "source": [
    "type(square)"
   ]
  },
  {
   "cell_type": "code",
   "execution_count": 17,
   "id": "2c40e98e",
   "metadata": {},
   "outputs": [
    {
     "data": {
      "text/plain": [
       "int"
      ]
     },
     "execution_count": 17,
     "metadata": {},
     "output_type": "execute_result"
    }
   ],
   "source": [
    "type(square(10))"
   ]
  },
  {
   "cell_type": "markdown",
   "id": "3cdddbf1",
   "metadata": {
    "slideshow": {
     "slide_type": "fragment"
    }
   },
   "source": [
    "The function `square` takes the argument of 10 and return the value of 100"
   ]
  },
  {
   "cell_type": "markdown",
   "id": "42e6f377",
   "metadata": {
    "slideshow": {
     "slide_type": "fragment"
    }
   },
   "source": [
    "We can also assign the returned value to a new variable"
   ]
  },
  {
   "cell_type": "code",
   "execution_count": 18,
   "id": "9dc32585",
   "metadata": {
    "slideshow": {
     "slide_type": "fragment"
    }
   },
   "outputs": [],
   "source": [
    "squared_10 = square(10)"
   ]
  },
  {
   "cell_type": "code",
   "execution_count": 19,
   "id": "4050fff3",
   "metadata": {},
   "outputs": [
    {
     "data": {
      "text/plain": [
       "100"
      ]
     },
     "execution_count": 19,
     "metadata": {},
     "output_type": "execute_result"
    }
   ],
   "source": [
    "squared_10"
   ]
  },
  {
   "cell_type": "markdown",
   "id": "e3c5db63",
   "metadata": {
    "slideshow": {
     "slide_type": "subslide"
    }
   },
   "source": [
    "### Composition\n",
    "We can also use the function `square` on the returned value of `square`"
   ]
  },
  {
   "cell_type": "code",
   "execution_count": 20,
   "id": "25bf3ebb",
   "metadata": {
    "slideshow": {
     "slide_type": "fragment"
    }
   },
   "outputs": [
    {
     "data": {
      "text/plain": [
       "10000"
      ]
     },
     "execution_count": 20,
     "metadata": {},
     "output_type": "execute_result"
    }
   ],
   "source": [
    "square(square(10))"
   ]
  },
  {
   "cell_type": "code",
   "execution_count": 21,
   "id": "f5d03cca",
   "metadata": {
    "slideshow": {
     "slide_type": "fragment"
    }
   },
   "outputs": [
    {
     "data": {
      "text/plain": [
       "10000"
      ]
     },
     "execution_count": 21,
     "metadata": {},
     "output_type": "execute_result"
    }
   ],
   "source": [
    "squared_10 = square(10)\n",
    "square(squared_10)"
   ]
  },
  {
   "cell_type": "markdown",
   "id": "27d31109",
   "metadata": {
    "slideshow": {
     "slide_type": "subslide"
    }
   },
   "source": [
    "## Void functions: no Return values\n",
    "```python\n",
    "def hello():\n",
    "    print(\"Hello World!\")\n",
    "```\n",
    "\n",
    "What are the components of the function?"
   ]
  },
  {
   "cell_type": "code",
   "execution_count": 22,
   "id": "4195fa78",
   "metadata": {},
   "outputs": [],
   "source": [
    "def hello():\n",
    "    return \"luck!\"\n",
    "    print(\"Hello World!\")"
   ]
  },
  {
   "cell_type": "code",
   "execution_count": 23,
   "id": "58c88e85",
   "metadata": {},
   "outputs": [],
   "source": [
    "b = hello()"
   ]
  },
  {
   "cell_type": "code",
   "execution_count": 24,
   "id": "33bd7a42",
   "metadata": {},
   "outputs": [
    {
     "data": {
      "text/plain": [
       "'luck!'"
      ]
     },
     "execution_count": 24,
     "metadata": {},
     "output_type": "execute_result"
    }
   ],
   "source": [
    "b"
   ]
  },
  {
   "cell_type": "code",
   "execution_count": 25,
   "id": "4ea6e5a8",
   "metadata": {},
   "outputs": [],
   "source": [
    "def hello():\n",
    "    print(\"Hello World!\")\n",
    "    return \"luck!\""
   ]
  },
  {
   "cell_type": "code",
   "execution_count": 26,
   "id": "5987f852",
   "metadata": {},
   "outputs": [
    {
     "name": "stdout",
     "output_type": "stream",
     "text": [
      "Hello World!\n"
     ]
    }
   ],
   "source": [
    "b = hello()"
   ]
  },
  {
   "cell_type": "code",
   "execution_count": 27,
   "id": "68d0d414",
   "metadata": {},
   "outputs": [
    {
     "data": {
      "text/plain": [
       "True"
      ]
     },
     "execution_count": 27,
     "metadata": {},
     "output_type": "execute_result"
    }
   ],
   "source": [
    "b == \"luck!\""
   ]
  },
  {
   "cell_type": "code",
   "execution_count": 28,
   "id": "83d338e9",
   "metadata": {},
   "outputs": [
    {
     "data": {
      "text/plain": [
       "'luck!'"
      ]
     },
     "execution_count": 28,
     "metadata": {},
     "output_type": "execute_result"
    }
   ],
   "source": [
    "b"
   ]
  },
  {
   "cell_type": "code",
   "execution_count": 29,
   "id": "2015dfcc",
   "metadata": {},
   "outputs": [],
   "source": [
    "def hello():\n",
    "    print(\"Hello World!\")"
   ]
  },
  {
   "cell_type": "code",
   "execution_count": 30,
   "id": "4fdc5327",
   "metadata": {},
   "outputs": [
    {
     "name": "stdout",
     "output_type": "stream",
     "text": [
      "Hello World!\n"
     ]
    }
   ],
   "source": [
    "b = hello()"
   ]
  },
  {
   "cell_type": "code",
   "execution_count": 31,
   "id": "4124aebe",
   "metadata": {},
   "outputs": [],
   "source": [
    "b"
   ]
  },
  {
   "cell_type": "code",
   "execution_count": 32,
   "id": "ff014a75",
   "metadata": {},
   "outputs": [
    {
     "data": {
      "text/plain": [
       "NoneType"
      ]
     },
     "execution_count": 32,
     "metadata": {},
     "output_type": "execute_result"
    }
   ],
   "source": [
    "type(b)"
   ]
  },
  {
   "cell_type": "code",
   "execution_count": 33,
   "id": "e6a04119",
   "metadata": {},
   "outputs": [
    {
     "data": {
      "text/plain": [
       "False"
      ]
     },
     "execution_count": 33,
     "metadata": {},
     "output_type": "execute_result"
    }
   ],
   "source": [
    "b == \"luck\""
   ]
  },
  {
   "cell_type": "code",
   "execution_count": 34,
   "id": "512b6121",
   "metadata": {},
   "outputs": [
    {
     "ename": "AssertionError",
     "evalue": "",
     "output_type": "error",
     "traceback": [
      "\u001b[0;31m---------------------------------------------------------------------------\u001b[0m",
      "\u001b[0;31mAssertionError\u001b[0m                            Traceback (most recent call last)",
      "\u001b[0;32m/var/folders/6m/8n2ktxl566j8yp0n_qx7x5bw0000gt/T/ipykernel_63243/3769617147.py\u001b[0m in \u001b[0;36m<module>\u001b[0;34m\u001b[0m\n\u001b[0;32m----> 1\u001b[0;31m \u001b[0;32massert\u001b[0m \u001b[0mb\u001b[0m \u001b[0;34m==\u001b[0m \u001b[0;34m\"luck\"\u001b[0m\u001b[0;34m\u001b[0m\u001b[0;34m\u001b[0m\u001b[0m\n\u001b[0m",
      "\u001b[0;31mAssertionError\u001b[0m: "
     ]
    }
   ],
   "source": [
    "assert b == \"luck\""
   ]
  },
  {
   "cell_type": "markdown",
   "id": "4b4f355a",
   "metadata": {
    "slideshow": {
     "slide_type": "fragment"
    }
   },
   "source": [
    "* ``def``: Python keyword for function definition\n",
    "* ``hello``: function name\n",
    "* ``print(\"Hello World!\")``: print statement"
   ]
  },
  {
   "cell_type": "markdown",
   "id": "1df630e9",
   "metadata": {
    "slideshow": {
     "slide_type": "subslide"
    }
   },
   "source": [
    "## Functions with more than 1 arguments\n",
    "\n",
    "```python\n",
    "def addition(x, y):\n",
    "    return x+y\n",
    "```"
   ]
  },
  {
   "cell_type": "code",
   "execution_count": 35,
   "id": "dce614cd",
   "metadata": {},
   "outputs": [],
   "source": [
    "def addition(x, y):\n",
    "    return x+y"
   ]
  },
  {
   "cell_type": "code",
   "execution_count": 36,
   "id": "8c1ae128",
   "metadata": {},
   "outputs": [
    {
     "data": {
      "text/plain": [
       "3"
      ]
     },
     "execution_count": 36,
     "metadata": {},
     "output_type": "execute_result"
    }
   ],
   "source": [
    "addition(1,2)"
   ]
  },
  {
   "cell_type": "code",
   "execution_count": 37,
   "id": "82a4e83a",
   "metadata": {},
   "outputs": [
    {
     "data": {
      "text/plain": [
       "3"
      ]
     },
     "execution_count": 37,
     "metadata": {},
     "output_type": "execute_result"
    }
   ],
   "source": [
    "1+2"
   ]
  },
  {
   "cell_type": "code",
   "execution_count": 38,
   "id": "2aa159f3",
   "metadata": {},
   "outputs": [],
   "source": [
    "def deduction(x,y):\n",
    "    return x-y"
   ]
  },
  {
   "cell_type": "code",
   "execution_count": 39,
   "id": "a6807b1d",
   "metadata": {},
   "outputs": [
    {
     "data": {
      "text/plain": [
       "1"
      ]
     },
     "execution_count": 39,
     "metadata": {},
     "output_type": "execute_result"
    }
   ],
   "source": [
    "deduction(2,1)"
   ]
  },
  {
   "cell_type": "code",
   "execution_count": 40,
   "id": "92a1ce46",
   "metadata": {},
   "outputs": [
    {
     "data": {
      "text/plain": [
       "-1"
      ]
     },
     "execution_count": 40,
     "metadata": {},
     "output_type": "execute_result"
    }
   ],
   "source": [
    "deduction(1,2)"
   ]
  },
  {
   "cell_type": "code",
   "execution_count": 41,
   "id": "fd71c850",
   "metadata": {},
   "outputs": [],
   "source": [
    "def deduction_reverse(x,y):\n",
    "    return y-x"
   ]
  },
  {
   "cell_type": "code",
   "execution_count": 42,
   "id": "3db6683b",
   "metadata": {},
   "outputs": [
    {
     "data": {
      "text/plain": [
       "-1"
      ]
     },
     "execution_count": 42,
     "metadata": {},
     "output_type": "execute_result"
    }
   ],
   "source": [
    "deduction_reverse(2,1)"
   ]
  },
  {
   "cell_type": "code",
   "execution_count": 43,
   "id": "bcba9dc5",
   "metadata": {},
   "outputs": [
    {
     "ename": "NameError",
     "evalue": "name 'x' is not defined",
     "output_type": "error",
     "traceback": [
      "\u001b[0;31m---------------------------------------------------------------------------\u001b[0m",
      "\u001b[0;31mNameError\u001b[0m                                 Traceback (most recent call last)",
      "\u001b[0;32m/var/folders/6m/8n2ktxl566j8yp0n_qx7x5bw0000gt/T/ipykernel_63243/32546335.py\u001b[0m in \u001b[0;36m<module>\u001b[0;34m\u001b[0m\n\u001b[0;32m----> 1\u001b[0;31m \u001b[0mx\u001b[0m\u001b[0;34m\u001b[0m\u001b[0;34m\u001b[0m\u001b[0m\n\u001b[0m",
      "\u001b[0;31mNameError\u001b[0m: name 'x' is not defined"
     ]
    }
   ],
   "source": [
    "x"
   ]
  },
  {
   "cell_type": "code",
   "execution_count": 44,
   "id": "af3554d0",
   "metadata": {},
   "outputs": [],
   "source": [
    "x = 10"
   ]
  },
  {
   "cell_type": "code",
   "execution_count": 45,
   "id": "06d8dae9",
   "metadata": {},
   "outputs": [
    {
     "data": {
      "text/plain": [
       "10"
      ]
     },
     "execution_count": 45,
     "metadata": {},
     "output_type": "execute_result"
    }
   ],
   "source": [
    "x"
   ]
  },
  {
   "cell_type": "code",
   "execution_count": 46,
   "id": "fac55518",
   "metadata": {},
   "outputs": [],
   "source": [
    "def deduction_reverse(x,y):\n",
    "    x = 100\n",
    "    return y-x"
   ]
  },
  {
   "cell_type": "code",
   "execution_count": 47,
   "id": "efd4c2b0",
   "metadata": {},
   "outputs": [
    {
     "data": {
      "text/plain": [
       "-99"
      ]
     },
     "execution_count": 47,
     "metadata": {},
     "output_type": "execute_result"
    }
   ],
   "source": [
    "deduction_reverse(x,1)"
   ]
  },
  {
   "cell_type": "code",
   "execution_count": 48,
   "id": "77bfaacb",
   "metadata": {},
   "outputs": [
    {
     "data": {
      "text/plain": [
       "10"
      ]
     },
     "execution_count": 48,
     "metadata": {},
     "output_type": "execute_result"
    }
   ],
   "source": [
    "x"
   ]
  },
  {
   "cell_type": "code",
   "execution_count": 49,
   "id": "e3de29d1",
   "metadata": {},
   "outputs": [
    {
     "data": {
      "text/plain": [
       "-1"
      ]
     },
     "execution_count": 49,
     "metadata": {},
     "output_type": "execute_result"
    }
   ],
   "source": [
    "deduction(1,2)"
   ]
  },
  {
   "cell_type": "code",
   "execution_count": 50,
   "id": "146db7a5",
   "metadata": {},
   "outputs": [
    {
     "data": {
      "text/plain": [
       "1"
      ]
     },
     "execution_count": 50,
     "metadata": {},
     "output_type": "execute_result"
    }
   ],
   "source": [
    "deduction(2,1)"
   ]
  },
  {
   "cell_type": "markdown",
   "id": "b5b3d8c8",
   "metadata": {
    "slideshow": {
     "slide_type": "subslide"
    }
   },
   "source": [
    "### Arguments in a Function\n",
    "* order/position is important\n",
    "* local variables  - cannot be used outside the function"
   ]
  },
  {
   "cell_type": "markdown",
   "id": "221fd232",
   "metadata": {
    "slideshow": {
     "slide_type": "subslide"
    }
   },
   "source": [
    "### Exercise:\n",
    "\n",
    "Suppose the cover price of a book is \\\\$24.95, but bookstores get a 40\\% discount. Shipping costs \\\\$3 for the first copy and 75 cents for each additional copy. What is the total wholesale cost for 60 copies? \n",
    "\n",
    "> how to automate our solution in a function? \n",
    "> What are the input (arguments)? How should we select the arguments?"
   ]
  },
  {
   "cell_type": "code",
   "execution_count": 51,
   "id": "7cbbf727",
   "metadata": {},
   "outputs": [],
   "source": [
    "def total_costs(num_copies):\n",
    "    return (24.95 * (1-0.4) * num_copies) + (3 *1 + (num_copies-1) * 0.75)"
   ]
  },
  {
   "cell_type": "code",
   "execution_count": 52,
   "id": "1927cfc9",
   "metadata": {},
   "outputs": [
    {
     "data": {
      "text/plain": [
       "1558.53"
      ]
     },
     "execution_count": 52,
     "metadata": {},
     "output_type": "execute_result"
    }
   ],
   "source": [
    "total_costs(99)"
   ]
  },
  {
   "cell_type": "code",
   "execution_count": 53,
   "id": "bee59cd9",
   "metadata": {},
   "outputs": [],
   "source": [
    "def total_costs(num_copies, discount):\n",
    "#     num_copies = 60\n",
    "    return (24.95 * (1-discount) * num_copies) + (3 *1 + (num_copies-1) * 0.75)"
   ]
  },
  {
   "cell_type": "code",
   "execution_count": 54,
   "id": "c9f8918a",
   "metadata": {},
   "outputs": [
    {
     "data": {
      "text/plain": [
       "2299.5449999999996"
      ]
     },
     "execution_count": 54,
     "metadata": {},
     "output_type": "execute_result"
    }
   ],
   "source": [
    "total_costs(99, 0.1)"
   ]
  },
  {
   "cell_type": "markdown",
   "id": "7923f8c7",
   "metadata": {
    "slideshow": {
     "slide_type": "subslide"
    }
   },
   "source": [
    "### Exercise:\n",
    "\n",
    "Suppose the cover price of a book is \\\\$56, but bookstores get a 40\\% discount. Shipping costs \\\\$3 for the first copy and 75 cents for each additional copy. What is the total wholesale cost for 15 copies? \n",
    "\n",
    "\n",
    "> When you are done with your calculation, raise your hands!\n"
   ]
  },
  {
   "cell_type": "markdown",
   "id": "bdf0ac4a",
   "metadata": {
    "slideshow": {
     "slide_type": "slide"
    }
   },
   "source": [
    "## Good programming practice with functions - docstrings\n",
    "\n",
    "Numpy docstring guidlines <https://numpydoc.readthedocs.io/en/latest/format.html>\n",
    "\n",
    "* A one-line summary describing what the function does\n",
    "* Description of the function arguments and their respective types. (input)\n",
    "* Description of the function's returns and their respective types. (output)\n",
    "* Some examples (optional)"
   ]
  },
  {
   "cell_type": "markdown",
   "id": "d8a97de1",
   "metadata": {
    "slideshow": {
     "slide_type": "slide"
    }
   },
   "source": [
    "## Abundant functions in Python\n",
    "\n",
    "* built-in function:\n",
    "    * ``type``: get an object's type\n",
    "    * ``int``: Convert a number or string to an integer\n",
    "* functions from built-in modules:\n",
    "    * import statement: ``import math`` creates a module object named math\n",
    "    * The ``math`` module object contains the functions and variables defined in the module\n",
    "    * how to access these functions or variables: dot notation (math.log)"
   ]
  },
  {
   "cell_type": "code",
   "execution_count": 55,
   "id": "98a33697",
   "metadata": {},
   "outputs": [
    {
     "data": {
      "text/plain": [
       "int"
      ]
     },
     "execution_count": 55,
     "metadata": {},
     "output_type": "execute_result"
    }
   ],
   "source": [
    "type(10)"
   ]
  },
  {
   "cell_type": "code",
   "execution_count": 56,
   "id": "fd2fe211",
   "metadata": {},
   "outputs": [
    {
     "data": {
      "text/plain": [
       "float"
      ]
     },
     "execution_count": 56,
     "metadata": {},
     "output_type": "execute_result"
    }
   ],
   "source": [
    "type(10.1)"
   ]
  },
  {
   "cell_type": "code",
   "execution_count": 57,
   "id": "3e60fc99",
   "metadata": {},
   "outputs": [
    {
     "data": {
      "text/plain": [
       "10"
      ]
     },
     "execution_count": 57,
     "metadata": {},
     "output_type": "execute_result"
    }
   ],
   "source": [
    "int(10.1)"
   ]
  },
  {
   "cell_type": "code",
   "execution_count": 58,
   "id": "b2730247",
   "metadata": {},
   "outputs": [
    {
     "data": {
      "text/plain": [
       "10"
      ]
     },
     "execution_count": 58,
     "metadata": {},
     "output_type": "execute_result"
    }
   ],
   "source": [
    "int(10.9)"
   ]
  },
  {
   "cell_type": "code",
   "execution_count": 59,
   "id": "7c82b904",
   "metadata": {},
   "outputs": [
    {
     "data": {
      "text/plain": [
       "['__doc__',\n",
       " '__file__',\n",
       " '__loader__',\n",
       " '__name__',\n",
       " '__package__',\n",
       " '__spec__',\n",
       " 'acos',\n",
       " 'acosh',\n",
       " 'asin',\n",
       " 'asinh',\n",
       " 'atan',\n",
       " 'atan2',\n",
       " 'atanh',\n",
       " 'ceil',\n",
       " 'comb',\n",
       " 'copysign',\n",
       " 'cos',\n",
       " 'cosh',\n",
       " 'degrees',\n",
       " 'dist',\n",
       " 'e',\n",
       " 'erf',\n",
       " 'erfc',\n",
       " 'exp',\n",
       " 'expm1',\n",
       " 'fabs',\n",
       " 'factorial',\n",
       " 'floor',\n",
       " 'fmod',\n",
       " 'frexp',\n",
       " 'fsum',\n",
       " 'gamma',\n",
       " 'gcd',\n",
       " 'hypot',\n",
       " 'inf',\n",
       " 'isclose',\n",
       " 'isfinite',\n",
       " 'isinf',\n",
       " 'isnan',\n",
       " 'isqrt',\n",
       " 'lcm',\n",
       " 'ldexp',\n",
       " 'lgamma',\n",
       " 'log',\n",
       " 'log10',\n",
       " 'log1p',\n",
       " 'log2',\n",
       " 'modf',\n",
       " 'nan',\n",
       " 'nextafter',\n",
       " 'perm',\n",
       " 'pi',\n",
       " 'pow',\n",
       " 'prod',\n",
       " 'radians',\n",
       " 'remainder',\n",
       " 'sin',\n",
       " 'sinh',\n",
       " 'sqrt',\n",
       " 'tan',\n",
       " 'tanh',\n",
       " 'tau',\n",
       " 'trunc',\n",
       " 'ulp']"
      ]
     },
     "execution_count": 59,
     "metadata": {},
     "output_type": "execute_result"
    }
   ],
   "source": [
    "import math\n",
    "dir(math)"
   ]
  },
  {
   "cell_type": "markdown",
   "id": "540b87ab",
   "metadata": {
    "slideshow": {
     "slide_type": "subslide"
    }
   },
   "source": [
    "### Variables and functions in the imported module"
   ]
  },
  {
   "cell_type": "code",
   "execution_count": 60,
   "id": "ee56448b",
   "metadata": {
    "slideshow": {
     "slide_type": "fragment"
    }
   },
   "outputs": [
    {
     "data": {
      "text/plain": [
       "3.141592653589793"
      ]
     },
     "execution_count": 60,
     "metadata": {},
     "output_type": "execute_result"
    }
   ],
   "source": [
    "math.pi"
   ]
  },
  {
   "cell_type": "markdown",
   "id": "55abf319",
   "metadata": {
    "slideshow": {
     "slide_type": "subslide"
    }
   },
   "source": [
    "### Exercise\n",
    "\n",
    "* calculate the smallest integer that is larger than $\\pi$\n",
    "* calculate the largest integer that is smaller than $\\pi$\n",
    "\n",
    "Hint: use the ``int`` function"
   ]
  },
  {
   "cell_type": "code",
   "execution_count": 61,
   "id": "c1c692fa",
   "metadata": {
    "slideshow": {
     "slide_type": "fragment"
    }
   },
   "outputs": [
    {
     "data": {
      "text/plain": [
       "4"
      ]
     },
     "execution_count": 61,
     "metadata": {},
     "output_type": "execute_result"
    }
   ],
   "source": [
    "int(math.pi)+1"
   ]
  },
  {
   "cell_type": "code",
   "execution_count": 62,
   "id": "b384c7d6",
   "metadata": {
    "slideshow": {
     "slide_type": "fragment"
    }
   },
   "outputs": [
    {
     "data": {
      "text/plain": [
       "3"
      ]
     },
     "execution_count": 62,
     "metadata": {},
     "output_type": "execute_result"
    }
   ],
   "source": [
    "int(math.pi)"
   ]
  },
  {
   "cell_type": "code",
   "execution_count": 63,
   "id": "e4bf12f2",
   "metadata": {
    "slideshow": {
     "slide_type": "fragment"
    }
   },
   "outputs": [
    {
     "data": {
      "text/plain": [
       "4"
      ]
     },
     "execution_count": 63,
     "metadata": {},
     "output_type": "execute_result"
    }
   ],
   "source": [
    "math.ceil(math.pi)"
   ]
  },
  {
   "cell_type": "code",
   "execution_count": 64,
   "id": "b733aac5",
   "metadata": {
    "slideshow": {
     "slide_type": "fragment"
    }
   },
   "outputs": [
    {
     "data": {
      "text/plain": [
       "3"
      ]
     },
     "execution_count": 64,
     "metadata": {},
     "output_type": "execute_result"
    }
   ],
   "source": [
    "math.floor(math.pi)"
   ]
  },
  {
   "cell_type": "markdown",
   "id": "6877107c",
   "metadata": {
    "slideshow": {
     "slide_type": "slide"
    }
   },
   "source": [
    "# Homework 1 (Programming Assignment)\n",
    "\n",
    "* Where: You will use your UNT EUID and password to login the Jupyter Hub https://jupyterhub.cas.unt.edu/ to complete the assignment and submit it. You need to make sure to connect to UNT VPN beforehand.\n",
    "* Four programming exercises \n",
    "    * complete the solution in a function\n",
    "    * the function is defined\n",
    "    * Use the test case to evaluate whether your solution is correct\n",
    "    * submit your completed work in the Jupyter Hub by 10 pm on 02/12/2023\n",
    "    "
   ]
  },
  {
   "cell_type": "markdown",
   "id": "b8be9944",
   "metadata": {
    "slideshow": {
     "slide_type": "slide"
    }
   },
   "source": [
    "# Next Class\n",
    "\n",
    "Topics:\n",
    "\n",
    "* Numerical data types \n",
    "\n",
    "Readings: Chapter 5"
   ]
  },
  {
   "cell_type": "code",
   "execution_count": null,
   "id": "f440c2af",
   "metadata": {},
   "outputs": [],
   "source": []
  }
 ],
 "metadata": {
  "celltoolbar": "Slideshow",
  "kernelspec": {
   "display_name": "Python 3 (ipykernel)",
   "language": "python",
   "name": "python3"
  },
  "language_info": {
   "codemirror_mode": {
    "name": "ipython",
    "version": 3
   },
   "file_extension": ".py",
   "mimetype": "text/x-python",
   "name": "python",
   "nbconvert_exporter": "python",
   "pygments_lexer": "ipython3",
   "version": "3.9.13"
  }
 },
 "nbformat": 4,
 "nbformat_minor": 5
}
