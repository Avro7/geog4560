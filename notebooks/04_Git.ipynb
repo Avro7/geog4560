{
 "cells": [
  {
   "cell_type": "markdown",
   "id": "f6f7754f",
   "metadata": {
    "slideshow": {
     "slide_type": "slide"
    }
   },
   "source": [
    "# Introduction to Python for Open Source Geocomputation\n",
    "\n",
    "![python](pics/python-logo-master-v3-TM.png)\n",
    "\n",
    "* Instructor: Dr. Wei Kang\n",
    "* Class Location and Time: ENV 336, Mon & Wed 12:30 pm - 1:50 pm \n",
    "\n",
    "Content:\n",
    "\n",
    "* Git Commands"
   ]
  },
  {
   "cell_type": "markdown",
   "id": "cc02a010",
   "metadata": {
    "slideshow": {
     "slide_type": "slide"
    }
   },
   "source": [
    "# Git and GitHub commands with our course materials\n",
    "\n",
    "### GitHub\n",
    "\n",
    "An Internet hosting service for software development and version control using Git\n",
    "\n",
    "GitHub Repository for our course https://github.com/weikang9009/geog4560\n",
    "\n",
    "We will use GitHub and Git to access our course materials and keep our local version up to date with the GitHub version (remote), which will be updated every few days.\n",
    "\n",
    "### Git: a distributed version control software \n",
    "\n",
    "* What is Version control? - A way to save changes over time without overwriting previous versions. \n",
    "* What is distributed? -  Being distributed means that every developer working with a Git repository has a copy of that entire repository - every commit, every branch, every file."
   ]
  },
  {
   "cell_type": "markdown",
   "id": "8b637d1c",
   "metadata": {
    "slideshow": {
     "slide_type": "subslide"
    }
   },
   "source": [
    "### Set up Git to work with GitHub\n",
    "\n",
    "1. Configuring user information used across all local repositories\n",
    "\n",
    "```bash\n",
    "git config --global user.name “[firstname lastname]”\n",
    "```\n",
    "\n",
    "2. set an email address (the one used for your GitHub registration) that will be associated with each history marker\n",
    "\n",
    "```bash\n",
    "git config --global user.email “[valid-email]”\n",
    "```\n",
    "\n",
    "3. set automatic command line coloring for Git for easy reviewing\n",
    "\n",
    "```bash\n",
    "git config --global color.ui auto\n",
    "```"
   ]
  },
  {
   "cell_type": "markdown",
   "id": "d4dbe5d9",
   "metadata": {
    "slideshow": {
     "slide_type": "subslide"
    }
   },
   "source": [
    "## SSH keys\n",
    "\n",
    "What is SSH?\n",
    "* Using the SSH protocol, you can connect and authenticate to remote servers and services. \n",
    "* With SSH keys, you can connect to GitHub without supplying your username and personal access token at each visit. \n",
    "* You can also use an SSH key to sign commits.\n",
    "\n",
    "\n",
    "Generating a new SSH key and adding it to the ssh-agent\n",
    "\n",
    "Follow [the steps on the GitHub webpage](https://docs.github.com/en/authentication/connecting-to-github-with-ssh/about-ssh)."
   ]
  },
  {
   "cell_type": "markdown",
   "id": "27803db5",
   "metadata": {
    "slideshow": {
     "slide_type": "subslide"
    }
   },
   "source": [
    "### Access course materials with SSH\n",
    "\n",
    "Configuring user information, initializing and cloning repositories\n",
    "\n",
    "* Navigage to [the GitHub repo for our course](https://github.com/weikang9009/geog4560) and click `Code` green button:\n",
    "\n",
    "![githubrepo.jpg](pics/githubrepo.jpg)\n",
    "\n",
    "* Retrieve the entire course repository from our hosted location via URL. Cloning can be done by (you may need to [create a personal access token](https://docs.github.com/en/authentication/connecting-to-github-with-ssh/generating-a-new-ssh-key-and-adding-it-to-the-ssh-agent):\n",
    "\n",
    "```bash\n",
    "git clone git@github.com:weikang9009/geog4560.git\n",
    "```"
   ]
  },
  {
   "cell_type": "markdown",
   "id": "cb785856",
   "metadata": {
    "slideshow": {
     "slide_type": "subslide"
    }
   },
   "source": [
    "### Git branching model - Version control management for software development\n",
    "\n",
    "<img src='pics/git_branch.png'>"
   ]
  },
  {
   "cell_type": "markdown",
   "id": "087b398d",
   "metadata": {
    "slideshow": {
     "slide_type": "subslide"
    }
   },
   "source": [
    "### Important Git Terms\n",
    "\n",
    "* branch\n",
    "* commit\n",
    "* pull request\n",
    "* merge"
   ]
  },
  {
   "cell_type": "markdown",
   "id": "02d9b868",
   "metadata": {
    "slideshow": {
     "slide_type": "subslide"
    }
   },
   "source": [
    "### Branch and merge\n",
    "\n",
    "\n",
    "* Git branches are effectively a pointer to a snapshot of your changes. \n",
    "* A Git branch is a seperate version of the main repository.\n",
    "* When you want to add a new feature or fix a bug—no matter how big or how small—you spawn a new branch to encapsulate your changes.\n",
    "\n",
    "Commands:\n",
    "* list your branches. a * will appear next to the currently active branch\n",
    "```bash\n",
    "git branch\n",
    "```\n",
    "* create a new branch at the current commit\n",
    "```bash\n",
    "git branch [branch-name]\n",
    "```\n",
    "\n",
    "* switch to another branch and check it out into your working directory\n",
    "```bash\n",
    "git checkout [branch-name]\n",
    "```\n",
    "\n",
    "* merge the specified branch’s history into the current one\n",
    "```bash\n",
    "git merge [branch]\n",
    "```\n"
   ]
  },
  {
   "cell_type": "markdown",
   "id": "6c7844bc",
   "metadata": {
    "slideshow": {
     "slide_type": "subslide"
    }
   },
   "source": [
    "### Git workflow\n",
    "\n",
    "![git_workflow](pics/git_workflow.jpeg)"
   ]
  },
  {
   "cell_type": "markdown",
   "id": "1d29c192",
   "metadata": {
    "slideshow": {
     "slide_type": "subslide"
    }
   },
   "source": [
    "### Commit - stage & snapshot\n",
    "\n",
    "* Commits are changes to the files\n",
    "\n",
    "Commands\n",
    "* show modified files in working directory, staged for your next commit\n",
    "```bash\n",
    "git status\n",
    "```\n",
    "* add a file as it looks now to your next commit (stage)\n",
    "```bash\n",
    "git add [changed file]\n",
    "```\n",
    "\n",
    "* commit your staged content as a new commit snapshot\n",
    "```bash\n",
    "git commit -m “[descriptive message]”\n",
    "```"
   ]
  },
  {
   "cell_type": "markdown",
   "id": "5dc3df30",
   "metadata": {},
   "source": [
    "### Share & Update\n",
    "\n",
    "Retrieving updates from another remote repository and updating local repos\n",
    "\n",
    "* local and remote\n",
    "* check the remote repositories \n",
    "\n",
    "```bash\n",
    "git remote -v\n",
    "```\n",
    "\n",
    "* fetch and merge any commits from the tracking remote branch\n",
    "\n",
    "```bash\n",
    "git pull\n",
    "```\n",
    "\n",
    "* Transmit local branch commits to the remote repository branch (create pull request)\n",
    "\n",
    "```bash\n",
    "git push [alias] [branch]\n",
    "```\n",
    "\n",
    "* add a git URL as an alias\n",
    "```bash\n",
    "git remote add [alias] [url]\n",
    "```"
   ]
  },
  {
   "cell_type": "markdown",
   "id": "04096061",
   "metadata": {
    "slideshow": {
     "slide_type": "subslide"
    }
   },
   "source": [
    "### Multiple developers\n",
    "\n",
    "![remote_local](pics/remote_local.png)"
   ]
  },
  {
   "cell_type": "markdown",
   "id": "d464d44b",
   "metadata": {
    "slideshow": {
     "slide_type": "subslide"
    }
   },
   "source": [
    "## Keep your local repo updated with the remote repository (repo )\n",
    "\n",
    "* Show remote url after remote name: `git remote -v`\n",
    "    * Currently I only have one remote repo on on my computer, so after typing in this git command in my terminal, the following will display the following. This means that I only have one remote repo \"git@github.com:weikang9009/geog4560.git\" connected to my local repo right now, and the name of the remote repo is main.\n",
    "\n",
    "<img src='pics/remote.jpg'>\n",
    "\n",
    "   \n",
    "* Add another remote and show the all remote urls after remote names:\n",
    "    * `git remote add air700 git@github.com:Air700/geog4560.git`: add a git repo \"Air700/pythonUNT2022\" as another remote so that our local computer can comminicate with this GitHub repo. The name of this remote is air700.\n",
    "    * Now after typing in `git remote -v` there should be 2 remote repos\n",
    "    \n",
    "<!-- ![git_remote_add.jpg](pics/git_remote_add.jpg) -->\n",
    "\n",
    "* I periodically update the materials in my remote repo weikang9009/geog4560 with which your compupter can communicate. To keep the repo on your local comuputer up-to-date with the my remote repo, make sure you use current  name of the remote repo and use the following command `git pull [remote name] main` when you are on your main branch (use `git checkout main` to switch to the main branch first and ran `git branch` to check which branch you are in). For my current computer, I will use `git pull origin main`. So whenever I announce there are updates in our course github repo, you can use `git pull [remote name] main` to sync your local directory with the course github repo.\n"
   ]
  },
  {
   "cell_type": "markdown",
   "id": "585f2224",
   "metadata": {
    "slideshow": {
     "slide_type": "subslide"
    }
   },
   "source": [
    "### _Translate that!_\n",
    "\n",
    "> What is git?\n",
    "> What is a git branch?\n",
    "> What is the difference between remote and local repositories?"
   ]
  },
  {
   "cell_type": "markdown",
   "id": "d3a78926",
   "metadata": {
    "slideshow": {
     "slide_type": "slide"
    }
   },
   "source": [
    "# Next Class\n",
    "\n",
    "* string"
   ]
  },
  {
   "cell_type": "code",
   "execution_count": null,
   "id": "e385fb09",
   "metadata": {},
   "outputs": [],
   "source": []
  }
 ],
 "metadata": {
  "celltoolbar": "Slideshow",
  "kernelspec": {
   "display_name": "Python 3 (ipykernel)",
   "language": "python",
   "name": "python3"
  },
  "language_info": {
   "codemirror_mode": {
    "name": "ipython",
    "version": 3
   },
   "file_extension": ".py",
   "mimetype": "text/x-python",
   "name": "python",
   "nbconvert_exporter": "python",
   "pygments_lexer": "ipython3",
   "version": "3.9.13"
  }
 },
 "nbformat": 4,
 "nbformat_minor": 5
}
